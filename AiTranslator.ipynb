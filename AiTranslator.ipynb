{
  "nbformat": 4,
  "nbformat_minor": 0,
  "metadata": {
    "colab": {
      "provenance": []
    },
    "kernelspec": {
      "name": "python3",
      "display_name": "Python 3"
    },
    "language_info": {
      "name": "python"
    }
  },
  "cells": [
    {
      "cell_type": "code",
      "execution_count": null,
      "metadata": {
        "colab": {
          "base_uri": "https://localhost:8080/"
        },
        "id": "oaH_dgZJFNRa",
        "outputId": "2b73b6a2-bb72-4da5-ed44-7d34cec6dabc"
      },
      "outputs": [
        {
          "name": "stdout",
          "output_type": "stream",
          "text": [
            "Enter the text:hi how are you!\n"
          ]
        },
        {
          "output_type": "stream",
          "name": "stderr",
          "text": [
            "Device set to use cpu\n"
          ]
        },
        {
          "output_type": "stream",
          "name": "stdout",
          "text": [
            "Translated: Salut, comment allez-vous ?\n"
          ]
        }
      ],
      "source": [
        "import warnings\n",
        "from transformers import pipeline\n",
        "\n",
        "# Suppress specific warnings\n",
        "warnings.filterwarnings(\"ignore\", category=UserWarning)\n",
        "\n",
        "def translate_text(text, source_lang=\"en\", target_lang=\"fr\"):\n",
        "    \"\"\"Translates text using Hugging Face's translation model.\"\"\"\n",
        "    model_name = f\"Helsinki-NLP/opus-mt-{source_lang}-{target_lang}\"\n",
        "    translator = pipeline(\"translation\", model=model_name)\n",
        "    result = translator(text)\n",
        "    return result[0]['translation_text']\n",
        "\n",
        "def model(text):\n",
        "  translated_text = translate_text(text, source_lang=\"en\", target_lang=\"fr\")\n",
        "  print(\"Translated:\", translated_text)\n",
        "\n",
        "# Example Usage\n",
        "text = input(\"Enter the text:\")\n",
        "model(text)"
      ]
    },
    {
      "cell_type": "code",
      "source": [],
      "metadata": {
        "id": "Q-DeGb8zFRgd"
      },
      "execution_count": null,
      "outputs": []
    }
  ]
}